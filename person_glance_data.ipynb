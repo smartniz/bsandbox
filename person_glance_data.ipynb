{
 "cells": [
  {
   "cell_type": "code",
   "execution_count": 9,
   "id": "b4058855",
   "metadata": {
    "ExecuteTime": {
     "end_time": "2021-09-17T19:12:31.903901Z",
     "start_time": "2021-09-17T19:12:31.901214Z"
    }
   },
   "outputs": [],
   "source": [
    "import linkml\n",
    "from linkml_runtime.loaders import yaml_loader\n",
    "import os\n",
    "import sys\n",
    "import yaml\n",
    "\n",
    "# import uuid\n",
    "\n",
    "# os.getcwd()"
   ]
  },
  {
   "cell_type": "code",
   "execution_count": 2,
   "id": "44c6cd5d",
   "metadata": {
    "ExecuteTime": {
     "end_time": "2021-09-17T18:54:46.207286Z",
     "start_time": "2021-09-17T18:54:46.204591Z"
    }
   },
   "outputs": [],
   "source": [
    "person_data_file = \"person_glance_data.json\""
   ]
  },
  {
   "cell_type": "code",
   "execution_count": 3,
   "id": "cf4590cf",
   "metadata": {
    "ExecuteTime": {
     "end_time": "2021-09-17T18:54:46.799204Z",
     "start_time": "2021-09-17T18:54:46.796771Z"
    }
   },
   "outputs": [],
   "source": [
    "# sys_path = sys.path\n",
    "# sys_path.sort()\n",
    "# sys_path"
   ]
  },
  {
   "cell_type": "code",
   "execution_count": 4,
   "id": "c072529d",
   "metadata": {
    "ExecuteTime": {
     "end_time": "2021-09-17T18:54:47.404703Z",
     "start_time": "2021-09-17T18:54:47.401847Z"
    }
   },
   "outputs": [],
   "source": [
    "sys.path.append(os.path.abspath(\"personinfo\"))\n",
    "# sys_path = sys.path\n",
    "# sys_path.sort()\n",
    "# sys_path"
   ]
  },
  {
   "cell_type": "code",
   "execution_count": 5,
   "id": "52a890d1",
   "metadata": {
    "ExecuteTime": {
     "end_time": "2021-09-17T18:54:48.025170Z",
     "start_time": "2021-09-17T18:54:47.994726Z"
    }
   },
   "outputs": [],
   "source": [
    "from personinfo import *"
   ]
  },
  {
   "cell_type": "code",
   "execution_count": 6,
   "id": "bd99f375",
   "metadata": {
    "ExecuteTime": {
     "end_time": "2021-09-17T18:54:48.577044Z",
     "start_time": "2021-09-17T18:54:48.574788Z"
    }
   },
   "outputs": [],
   "source": [
    "# persuuid = str(uuid.uuid1())\n",
    "# persuuid"
   ]
  },
  {
   "cell_type": "code",
   "execution_count": 7,
   "id": "83561027",
   "metadata": {
    "ExecuteTime": {
     "end_time": "2021-09-17T18:54:49.160222Z",
     "start_time": "2021-09-17T18:54:49.157617Z"
    }
   },
   "outputs": [],
   "source": [
    "# psersinst = Person(id=persuuid)\n",
    "# psersinst"
   ]
  },
  {
   "cell_type": "code",
   "execution_count": 8,
   "id": "55a1c572",
   "metadata": {
    "ExecuteTime": {
     "end_time": "2021-09-17T18:54:49.809225Z",
     "start_time": "2021-09-17T18:54:49.796191Z"
    }
   },
   "outputs": [
    {
     "data": {
      "text/plain": [
       "Person(id='Waldo', name=None, description=None, image=None, primary_email='waldo@whwald.example.com', birth_date=None, age_in_years=None, gender=None, current_address=Address(street='0 Main Street', city='Anytown', postal_code='00000'), has_employment_history=[], has_familial_relationships=[], has_medical_history=[MedicalEvent(started_at_time=None, ended_at_time=None, duration=None, is_current=None, in_location=None, diagnosis=DiagnosisConcept(id='ICD10:F44.1', name='Fugue', description=None, image=None), procedure=None)], aliases=[])"
      ]
     },
     "execution_count": 8,
     "metadata": {},
     "output_type": "execute_result"
    }
   ],
   "source": [
    "# this_cwd = os.getcwd()\n",
    "# full_fname = os.path.join(this_cwd, person_data_file)\n",
    "\n",
    "# with open(full_fname, 'r') as f:\n",
    "#     print(f.read())\n",
    "\n",
    "people = yaml_loader.load(person_data_file, Person)\n",
    "people"
   ]
  },
  {
   "cell_type": "code",
   "execution_count": 16,
   "id": "3289f1f8",
   "metadata": {
    "ExecuteTime": {
     "end_time": "2021-09-17T19:16:59.447012Z",
     "start_time": "2021-09-17T19:16:59.443676Z"
    }
   },
   "outputs": [],
   "source": [
    "def ysl_wrapper(yamlfile):\n",
    "    with open(yamlfile, \"r\") as stream:\n",
    "        try:\n",
    "            safe_loaded = yaml.safe_load(stream)\n",
    "        except yaml.YAMLError as exc:\n",
    "            print(exc)\n",
    "        return safe_loaded"
   ]
  },
  {
   "cell_type": "code",
   "execution_count": 24,
   "id": "5c18fbf2",
   "metadata": {
    "ExecuteTime": {
     "end_time": "2021-09-17T19:22:51.443562Z",
     "start_time": "2021-09-17T19:22:51.440110Z"
    }
   },
   "outputs": [],
   "source": [
    "prefixes_suffix = ysl_wrapper(\"prefixes_suffix.yaml\")"
   ]
  },
  {
   "cell_type": "code",
   "execution_count": 25,
   "id": "84fedead",
   "metadata": {
    "ExecuteTime": {
     "end_time": "2021-09-17T19:22:52.894358Z",
     "start_time": "2021-09-17T19:22:52.868032Z"
    }
   },
   "outputs": [],
   "source": [
    "model_to_supplement = ysl_wrapper(\"personinfo.yaml\")"
   ]
  },
  {
   "cell_type": "code",
   "execution_count": 26,
   "id": "4af764e4",
   "metadata": {
    "ExecuteTime": {
     "end_time": "2021-09-17T19:22:55.024262Z",
     "start_time": "2021-09-17T19:22:55.021764Z"
    }
   },
   "outputs": [],
   "source": [
    "prefixes_to_supplement = model_to_supplement[\"prefixes\"]"
   ]
  },
  {
   "cell_type": "code",
   "execution_count": 27,
   "id": "3a8b5e84",
   "metadata": {
    "ExecuteTime": {
     "end_time": "2021-09-17T19:22:56.958333Z",
     "start_time": "2021-09-17T19:22:56.953230Z"
    }
   },
   "outputs": [
    {
     "data": {
      "text/plain": [
       "{'personinfo': 'https://w3id.org/linkml/examples/personinfo/',\n",
       " 'linkml': 'https://w3id.org/linkml/',\n",
       " 'schema': 'http://schema.org/',\n",
       " 'rdfs': 'http://www.w3.org/2000/01/rdf-schema#',\n",
       " 'prov': 'http://www.w3.org/ns/prov#',\n",
       " 'GSSO': 'http://purl.obolibrary.org/obo/GSSO_',\n",
       " 'famrel': 'https://example.org/FamilialRelations#',\n",
       " 'skos': 'http://www.w3.org/2004/02/skos/core#'}"
      ]
     },
     "execution_count": 27,
     "metadata": {},
     "output_type": "execute_result"
    }
   ],
   "source": [
    "prefixes_to_supplement.update(prefixes_suffix[\"prefixes\"])\n",
    "model_to_supplement[\"prefixes\"] = prefixes_to_supplement\n",
    "model_to_supplement[\"prefixes\"]"
   ]
  },
  {
   "cell_type": "code",
   "execution_count": 28,
   "id": "30af6fa4",
   "metadata": {
    "ExecuteTime": {
     "end_time": "2021-09-17T19:24:54.902433Z",
     "start_time": "2021-09-17T19:24:54.886394Z"
    }
   },
   "outputs": [],
   "source": [
    "with open(\"personinfo.yaml\", \"w\") as outfile:\n",
    "    yaml.safe_dump(model_to_supplement, outfile, default_flow_style=False)"
   ]
  },
  {
   "cell_type": "code",
   "execution_count": null,
   "id": "fbc4d2ab",
   "metadata": {},
   "outputs": [],
   "source": []
  }
 ],
 "metadata": {
  "kernelspec": {
   "display_name": "Python 3 (ipykernel)",
   "language": "python",
   "name": "python3"
  },
  "language_info": {
   "codemirror_mode": {
    "name": "ipython",
    "version": 3
   },
   "file_extension": ".py",
   "mimetype": "text/x-python",
   "name": "python",
   "nbconvert_exporter": "python",
   "pygments_lexer": "ipython3",
   "version": "3.9.6"
  },
  "varInspector": {
   "cols": {
    "lenName": 16,
    "lenType": 16,
    "lenVar": 40
   },
   "kernels_config": {
    "python": {
     "delete_cmd_postfix": "",
     "delete_cmd_prefix": "del ",
     "library": "var_list.py",
     "varRefreshCmd": "print(var_dic_list())"
    },
    "r": {
     "delete_cmd_postfix": ") ",
     "delete_cmd_prefix": "rm(",
     "library": "var_list.r",
     "varRefreshCmd": "cat(var_dic_list()) "
    }
   },
   "types_to_exclude": [
    "module",
    "function",
    "builtin_function_or_method",
    "instance",
    "_Feature"
   ],
   "window_display": false
  }
 },
 "nbformat": 4,
 "nbformat_minor": 5
}
