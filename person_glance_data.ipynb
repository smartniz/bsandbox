{
 "cells": [
  {
   "cell_type": "code",
   "execution_count": 1,
   "id": "b4058855",
   "metadata": {
    "ExecuteTime": {
     "end_time": "2021-09-17T17:33:23.383747Z",
     "start_time": "2021-09-17T17:33:22.925844Z"
    }
   },
   "outputs": [],
   "source": [
    "import linkml\n",
    "from linkml_runtime.loaders import yaml_loader\n",
    "import os\n",
    "import sys\n",
    "import uuid\n",
    "\n",
    "# os.getcwd()"
   ]
  },
  {
   "cell_type": "code",
   "execution_count": 2,
   "id": "44c6cd5d",
   "metadata": {
    "ExecuteTime": {
     "end_time": "2021-09-17T17:33:23.387747Z",
     "start_time": "2021-09-17T17:33:23.384972Z"
    }
   },
   "outputs": [],
   "source": [
    "person_data_file = \"person_glance_data.json\""
   ]
  },
  {
   "cell_type": "code",
   "execution_count": 3,
   "id": "cf4590cf",
   "metadata": {
    "ExecuteTime": {
     "end_time": "2021-09-17T17:33:23.392713Z",
     "start_time": "2021-09-17T17:33:23.390686Z"
    }
   },
   "outputs": [],
   "source": [
    "sys_path = sys.path\n",
    "# sys_path.sort()\n",
    "# sys_path"
   ]
  },
  {
   "cell_type": "code",
   "execution_count": 4,
   "id": "c072529d",
   "metadata": {
    "ExecuteTime": {
     "end_time": "2021-09-17T17:33:23.396539Z",
     "start_time": "2021-09-17T17:33:23.394407Z"
    }
   },
   "outputs": [],
   "source": [
    "sys.path.append(os.path.abspath(\"personinfo\"))\n",
    "# sys_path = sys.path\n",
    "# sys_path.sort()\n",
    "# sys_path"
   ]
  },
  {
   "cell_type": "code",
   "execution_count": 5,
   "id": "52a890d1",
   "metadata": {
    "ExecuteTime": {
     "end_time": "2021-09-17T17:33:23.413118Z",
     "start_time": "2021-09-17T17:33:23.397984Z"
    }
   },
   "outputs": [],
   "source": [
    "from personinfo import *"
   ]
  },
  {
   "cell_type": "code",
   "execution_count": 6,
   "id": "bd99f375",
   "metadata": {
    "ExecuteTime": {
     "end_time": "2021-09-17T17:33:23.416233Z",
     "start_time": "2021-09-17T17:33:23.414460Z"
    }
   },
   "outputs": [],
   "source": [
    "# persuuid = str(uuid.uuid1())\n",
    "# persuuid"
   ]
  },
  {
   "cell_type": "code",
   "execution_count": 7,
   "id": "83561027",
   "metadata": {
    "ExecuteTime": {
     "end_time": "2021-09-17T17:33:23.419232Z",
     "start_time": "2021-09-17T17:33:23.417558Z"
    }
   },
   "outputs": [],
   "source": [
    "# psersinst = Person(id=persuuid)\n",
    "# psersinst"
   ]
  },
  {
   "cell_type": "code",
   "execution_count": 8,
   "id": "55a1c572",
   "metadata": {
    "ExecuteTime": {
     "end_time": "2021-09-17T17:33:23.432215Z",
     "start_time": "2021-09-17T17:33:23.420569Z"
    }
   },
   "outputs": [
    {
     "data": {
      "text/plain": [
       "Person(id='Waldo', name=None, description=None, image=None, primary_email='waldo@whwald.example.com', birth_date=None, age_in_years=None, gender=None, current_address=Address(street='0 Main Street', city='Anytown', postal_code='00000'), has_employment_history=[], has_familial_relationships=[], has_medical_history=[MedicalEvent(started_at_time=None, ended_at_time=None, duration=None, is_current=None, in_location=None, diagnosis=DiagnosisConcept(id='ICD10:F44.1', name='Fugue', description=None, image=None), procedure=None)], aliases=[])"
      ]
     },
     "execution_count": 8,
     "metadata": {},
     "output_type": "execute_result"
    }
   ],
   "source": [
    "this_cwd = os.getcwd()\n",
    "full_fname = os.path.join(this_cwd, person_data_file)\n",
    "\n",
    "# with open(full_fname, 'r') as f:\n",
    "#     print(f.read())\n",
    "\n",
    "people = yaml_loader.load(person_data_file, Person)\n",
    "people"
   ]
  },
  {
   "cell_type": "code",
   "execution_count": null,
   "id": "39a35552",
   "metadata": {},
   "outputs": [],
   "source": []
  }
 ],
 "metadata": {
  "kernelspec": {
   "display_name": "Python 3 (ipykernel)",
   "language": "python",
   "name": "python3"
  },
  "language_info": {
   "codemirror_mode": {
    "name": "ipython",
    "version": 3
   },
   "file_extension": ".py",
   "mimetype": "text/x-python",
   "name": "python",
   "nbconvert_exporter": "python",
   "pygments_lexer": "ipython3",
   "version": "3.9.6"
  },
  "varInspector": {
   "cols": {
    "lenName": 16,
    "lenType": 16,
    "lenVar": 40
   },
   "kernels_config": {
    "python": {
     "delete_cmd_postfix": "",
     "delete_cmd_prefix": "del ",
     "library": "var_list.py",
     "varRefreshCmd": "print(var_dic_list())"
    },
    "r": {
     "delete_cmd_postfix": ") ",
     "delete_cmd_prefix": "rm(",
     "library": "var_list.r",
     "varRefreshCmd": "cat(var_dic_list()) "
    }
   },
   "types_to_exclude": [
    "module",
    "function",
    "builtin_function_or_method",
    "instance",
    "_Feature"
   ],
   "window_display": false
  }
 },
 "nbformat": 4,
 "nbformat_minor": 5
}
